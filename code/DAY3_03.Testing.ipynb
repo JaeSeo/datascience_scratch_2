{
 "cells": [
  {
   "cell_type": "code",
   "execution_count": 4,
   "metadata": {},
   "outputs": [],
   "source": [
    "import matplotlib.pyplot as plt\n",
    "import matplotlib\n",
    "matplotlib.style.use('ggplot')"
   ]
  },
  {
   "cell_type": "markdown",
   "metadata": {
    "collapsed": true
   },
   "source": [
    "# 가설 검정 문제\n",
    "> ## - 동전을 1,000번 던졌는데, 앞면이 530번 나왔다. 이 동전은 휘어지지 않은 동전인가?"
   ]
  },
  {
   "cell_type": "markdown",
   "metadata": {},
   "source": [
    "--------"
   ]
  },
  {
   "cell_type": "markdown",
   "metadata": {},
   "source": [
    "# 1. 데이터가 어떤 고정된(fixed) 확률 분포를 가지는 확률 변수라고 가정한다. "
   ]
  },
  {
   "cell_type": "code",
   "execution_count": 5,
   "metadata": {},
   "outputs": [],
   "source": [
    "# 여러번 동전을 던져서 나오는 데이터는 이항확률 분포를 따른다고 가정하자."
   ]
  },
  {
   "cell_type": "markdown",
   "metadata": {},
   "source": [
    "--------"
   ]
  },
  {
   "cell_type": "markdown",
   "metadata": {},
   "source": [
    "# 2. 이 확률 분포의 모수값이 특정한 값을 가진다고 가정한다.   \n",
    "## 이 때 모수가 가지는 특정한 값은 우리가 검증하고자 하는 사실과 관련이 있어야 한다. 이러한 가정을 귀무 가설(null hypothesis)이라고 한다."
   ]
  },
  {
   "cell_type": "markdown",
   "metadata": {},
   "source": [
    ">  ***귀무 가설(null hypothesis)***\n",
    "> - 검정하고 싶은 가설\n",
    "- $H_0$  로 표기\n",
    "- 데이터가 따르는 분포가 어떤 특정한 모수 값으로 고정되어 있다고 가정\n",
    "- 반드시 등식(equality)으로 표현\n",
    "    \n",
    "    \n",
    "> ***대립 가설(alternative hypothesis)***\n",
    ">- 비교하고 싶은 가설\n",
    "- $H_a$  로 표기 \n",
    "- 보통 대립 가설은 모수의 값이 특정한 값보다 크거나 작은 것을 나타냄\n",
    "- 대립 가설이 사실일 가능성이 높아지면 귀무 가설은 기각하게 된다."
   ]
  },
  {
   "cell_type": "code",
   "execution_count": 6,
   "metadata": {},
   "outputs": [],
   "source": [
    "# - 하나의 동전이 공평한 동전이라고 가정한다.\n",
    "# - 앞면이 나올 확률 = p 일때,\n",
    "# - 귀무 가설 : p = 0.5\n",
    "# - 대립 가설 : p != 0.5"
   ]
  },
  {
   "cell_type": "markdown",
   "metadata": {},
   "source": [
    "--------"
   ]
  },
  {
   "cell_type": "markdown",
   "metadata": {},
   "source": [
    "# 3. 만약 데이터가 주어진 귀무 가설에 따른 표본이고 이 표본 데이터를 특정한 수식에 따라 계산한 숫자는 특정한 확률 분포를 따르게 된다. 이 숫자를 <font color=red>검정 통계량(test statistics)</font>라고 하며 검정 통계량의 확률 분포를  <font color=red>검정 통계 분포(test statistics distribution)</font>라고 한다.  검정 통계 분포의 종류 및 모수의 값은 처음에 정한 가설 및 수식에 의해 결정된다."
   ]
  },
  {
   "cell_type": "markdown",
   "metadata": {},
   "source": [
    "> ### 검정 통계량\n",
    "- 귀무 가설이 맞거나 틀린 것을 증명할때 사용되는 증거가 되는 숫자.\n",
    "\n",
    "> ### 예시\n",
    "- 어떤 병에 걸렸다\"라는 가설을 증명하려면 환자의 혈액을 채취하여 혈액 내의 **특정한 성분의 수치**를 측정해야 한다고 가정하자. 이 때 **해당 수치**가 바로 **검정 통계량**이 된다.\n",
    "- 어떤 학생이 우등 상장을 받을 수 있는 우등생이다\"라는 가설을 증명하려면 **시험 성적**을 측정하면 된다. 이 **시험 성적**을 **검정 통계량**이라고 부를 수 있다."
   ]
  },
  {
   "cell_type": "code",
   "execution_count": 7,
   "metadata": {},
   "outputs": [],
   "source": [
    "# 검정통계량은 표본 데이터에 따라 다르게 계산된다.\n",
    "## 동전 던지기의 경우, 성공횟수를 검정 통계량으로 사용할 수 있다.\n",
    "## 검정통계량 : 550회\n",
    "## 검정 통계 분포 : 이항분포"
   ]
  },
  {
   "cell_type": "markdown",
   "metadata": {},
   "source": [
    "# 4. 주어진 귀무 가설이 맞으면서도 표본 데이터에 의해서 실제로 계산된 검정통계량의 값과 같은 혹은 그보다 더 극단적인(extreme) 또는 더 희귀한(rare) 값이 나올 수 있는 확률을 계산한다. 이를 <font color=red>유의 확률(p-value)</font>이라고 한다."
   ]
  },
  {
   "cell_type": "markdown",
   "metadata": {},
   "source": [
    "> ### 유의 확률 ( p - value )\n",
    "- 검정 통계량이 따르는 검정 통계량 분포를 알고 있다면 실제 데이터에서 계산한 검정 통계량 숫자가 분포에서 어느 부분쯤에 위치해 있는지를 알 수 있다. 이 위치를 나타내는 값이 바로 유의 확률(p-value) 이다."
   ]
  },
  {
   "cell_type": "code",
   "execution_count": 8,
   "metadata": {},
   "outputs": [],
   "source": [
    "# 연속 확률 변수에서 특정한 하나의 값이 나올 확률은 보통 0 이므로 검정통계량과 같은 값이 나올 확률을 구해도 0이므로 이 값은 유의 확률로 쓸 수 없다.\n",
    "# 따라서 검정 통계량의 유의 확률은 검정 통계량과 같거나 더 극단적인(extreme) 또는 희귀한(rare) 값이 나올 수 있는 확률로 구한다. \n",
    "# 이 확률은 검정 통계 확률 분포 밀도 함수에서 꼬리(tail)부분에 해당하는 영역의 면적으로 계산한다."
   ]
  },
  {
   "cell_type": "markdown",
   "metadata": {},
   "source": [
    "- **[ 양측 검정인 경우 ]**"
   ]
  },
  {
   "cell_type": "markdown",
   "metadata": {},
   "source": [
    "<img src=\"https://upload.wikimedia.org/wikipedia/commons/9/96/DisNormal06.svg\" alt=\"Drawing\" style=\"width: 600px;\" align = \"left\"/>"
   ]
  },
  {
   "cell_type": "code",
   "execution_count": 9,
   "metadata": {},
   "outputs": [],
   "source": [
    "## 검정통계량 : 530회\n",
    "## 검정 통계 분포 : 이항분포"
   ]
  },
  {
   "cell_type": "code",
   "execution_count": 10,
   "metadata": {},
   "outputs": [],
   "source": [
    "from scipy import stats"
   ]
  },
  {
   "cell_type": "code",
   "execution_count": 11,
   "metadata": {
    "scrolled": false
   },
   "outputs": [
    {
     "data": {
      "text/plain": [
       "0.05785052237170863"
      ]
     },
     "execution_count": 11,
     "metadata": {},
     "output_type": "execute_result"
    }
   ],
   "source": [
    "## 양측 검정\n",
    "## 공정한 동전인지 아닌지 알고 싶을 때 우리는 530의 위치뿐만 아니라 470의 위치도 함께 고려해야한다.\n",
    "## 유의확률은 사전에 가정한 확률 분포의 누적확률분포함수를 사용해서 구한다.\n",
    "\n",
    "rv = stats.binom(1000, 0.5)\n",
    "1-rv.cdf(530) + rv.cdf(470)"
   ]
  },
  {
   "cell_type": "code",
   "execution_count": 12,
   "metadata": {},
   "outputs": [
    {
     "data": {
      "text/plain": [
       "0.026838924822515153"
      ]
     },
     "execution_count": 12,
     "metadata": {},
     "output_type": "execute_result"
    }
   ],
   "source": [
    "1-rv.cdf(530)"
   ]
  },
  {
   "cell_type": "code",
   "execution_count": 13,
   "metadata": {},
   "outputs": [
    {
     "data": {
      "text/plain": [
       "469.0"
      ]
     },
     "execution_count": 13,
     "metadata": {},
     "output_type": "execute_result"
    }
   ],
   "source": [
    "rv.ppf(1-rv.cdf(530))"
   ]
  },
  {
   "cell_type": "code",
   "execution_count": 14,
   "metadata": {},
   "outputs": [
    {
     "data": {
      "text/plain": [
       "530.0"
      ]
     },
     "execution_count": 14,
     "metadata": {},
     "output_type": "execute_result"
    }
   ],
   "source": [
    "rv.ppf(1-rv.cdf(469))"
   ]
  },
  {
   "cell_type": "code",
   "execution_count": 15,
   "metadata": {
    "scrolled": false
   },
   "outputs": [
    {
     "data": {
      "image/png": "[encoded data removed]",
      "text/plain": [
       "<matplotlib.figure.Figure at 0x10c280160>"
      ]
     },
     "metadata": {},
     "output_type": "display_data"
    }
   ],
   "source": [
    "xs = [x for x in range(420, 580)]\n",
    "plt.figure(figsize=(10, 5))\n",
    "plt.plot(xs,[rv.cdf(x) for x in xs],'-')\n",
    "plt.title('Cumulative Mass Function')\n",
    "plt.scatter(530, rv.cdf(530), color = 'blue')\n",
    "plt.scatter(470, rv.cdf(470), color = 'blue')\n",
    "plt.vlines(530, ymin = 0, ymax=rv.cdf(530), linestyles='--', color = 'blue')\n",
    "plt.vlines(470, ymin = 0, ymax=rv.cdf(470), linestyles='--', color = 'blue')\n",
    "plt.show()"
   ]
  },
  {
   "cell_type": "code",
   "execution_count": 16,
   "metadata": {},
   "outputs": [
    {
     "data": {
      "image/png": "[encoded data removed]",
      "text/plain": [
       "<matplotlib.figure.Figure at 0x10c2ce9e8>"
      ]
     },
     "metadata": {},
     "output_type": "display_data"
    }
   ],
   "source": [
    "xs = [x for x in range(420, 580)]\n",
    "plt.figure(figsize=(10, 5))\n",
    "plt.plot(xs,[rv.pmf(x) for x in xs],'-')\n",
    "plt.title('Probability Mass Function')\n",
    "plt.scatter([470, 530], [rv.pmf(470), rv.pmf(530)], color = 'blue')\n",
    "plt.vlines([470, 530], ymin = [0, 0], ymax=[rv.pmf(470), rv.pmf(530)], linestyles='--', color = 'blue')\n",
    "plt.show()"
   ]
  },
  {
   "cell_type": "markdown",
   "metadata": {},
   "source": [
    "# 5. 만약 유의 확률이 미리 정한 <font color=red>특정한 기준값보다 작은 경우</font>를 생각하자. 이 기준값을 <font color=red>유의 수준(significance level)</font>이라고 하는 데 보통 1% 혹은 5% 정도의 작은 값을 지정한다. 유의 확률이 유의 수준으로 정한 값(예 1%)보다도 작다는 말은 해당 검정 통계 분포에서 이 검정 통계치(혹은 더 극단적인 경우)가 나올 수 있는 확률이 아주 작다는 의미이므로 가장 근본이 되는 가설 즉, 귀무 가설이 틀렸다는 의미이다. 따라서 이 경우에는 귀무 가설을 <font color=red>기각(reject)</font>한다."
   ]
  },
  {
   "cell_type": "markdown",
   "metadata": {},
   "source": [
    "--------"
   ]
  },
  {
   "cell_type": "markdown",
   "metadata": {},
   "source": [
    "# 6.  만약 유의 확률이 유의 수준보다 <font color=red>크다면</font> 해당 검정 통계 분포에서 이 검정 통계치가 나오는 것이 불가능하지만은 않다는 의미이므로 귀무 가설을 기각할 수 없다. 따라서 이 경우에는 귀무 가설을 <font color=red>채택(accept)</font>한다."
   ]
  },
  {
   "cell_type": "markdown",
   "metadata": {},
   "source": [
    "> ### 앞면이 530회 나온 경우, 유의확률이 0.05보다 크므로 귀무가설을 기각하지 못한다.\n",
    "### 따라서 이 동전은 공정한 동전이 아니라고 말할 수 없다."
   ]
  },
  {
   "cell_type": "markdown",
   "metadata": {},
   "source": [
    "-------------"
   ]
  },
  {
   "cell_type": "markdown",
   "metadata": {},
   "source": [
    "### 그렇다면 기각할 수 있는 구간은 어떤 구간일까?"
   ]
  },
  {
   "cell_type": "code",
   "execution_count": 17,
   "metadata": {},
   "outputs": [
    {
     "data": {
      "text/plain": [
       "(469.0, 531.0)"
      ]
     },
     "execution_count": 17,
     "metadata": {},
     "output_type": "execute_result"
    }
   ],
   "source": [
    "## ppf (cmf의 역함수) 함수를 이용해서 유의수준에 해당되는 검정통계량을 구해보자.\n",
    "\n",
    "rv.ppf(0.025), rv.ppf(0.975)"
   ]
  },
  {
   "cell_type": "code",
   "execution_count": 19,
   "metadata": {},
   "outputs": [
    {
     "data": {
      "text/plain": [
       "0.04998452350277943"
      ]
     },
     "execution_count": 19,
     "metadata": {},
     "output_type": "execute_result"
    }
   ],
   "source": [
    "## 유의확률이 0.05에 근사한다.\n",
    "\n",
    "1-rv.cdf(531) + rv.cdf(469)"
   ]
  },
  {
   "cell_type": "code",
   "execution_count": 21,
   "metadata": {
    "scrolled": true
   },
   "outputs": [
    {
     "data": {
      "image/png": "[encoded data removed]",
      "text/plain": [
       "<matplotlib.figure.Figure at 0x10c762160>"
      ]
     },
     "metadata": {},
     "output_type": "display_data"
    }
   ],
   "source": [
    "xs = [x for x in range(420, 580)]\n",
    "plt.figure(figsize=(10, 5))\n",
    "plt.plot(xs,[rv.pmf(x) for x in xs],'-')\n",
    "\n",
    "plt.scatter([470, 530], [rv.pmf(470), rv.pmf(530)], color = 'blue', label = '530')\n",
    "plt.vlines([470, 530], ymin = [0, 0], ymax=[rv.pmf(470), rv.pmf(530)], linestyles='--', color = 'blue')\n",
    "\n",
    "\n",
    "## (469.0, 531.0) 위치를 찾아보자.\n",
    "\n",
    "plt.scatter([469, 531], [rv.pmf(469), rv.pmf(531)], color = 'red', label = '520')\n",
    "plt.vlines([469, 531], ymin = [0, 0], ymax=[rv.pmf(469), rv.pmf(531)], linestyles='--', color = 'red')\n",
    "plt.fill_between(list(range(420, 470)), [rv.pmf(x) for x in range(420, 470)], facecolor='red', alpha=0.35)\n",
    "plt.fill_between(list(range(531, 580)), [rv.pmf(x) for x in range(531, 580)], facecolor='red', alpha=0.35)\n",
    "plt.text(440, 0.005, \"p-value=%s\" % round(1-rv.cdf(530) + rv.cdf(470), 4), horizontalalignment='center')\n",
    "plt.legend()\n",
    "plt.show()"
   ]
  },
  {
   "cell_type": "markdown",
   "metadata": {},
   "source": [
    "> ### 동전이 531회 이상 앞면이 나왔다면 이 동전은 공정하다는 귀무가설을 기각할 수 있게된다."
   ]
  },
  {
   "cell_type": "markdown",
   "metadata": {
    "collapsed": true
   },
   "source": [
    "------------"
   ]
  },
  {
   "cell_type": "markdown",
   "metadata": {},
   "source": [
    "## 실험을 통한 유의수준 확인\n",
    "- 주사위를 1000번 던지는 실험을 1000번하면, 5% 유의수준에서 기각이 되는 실험은 몇번이나 나올까?\n",
    "    - 1) 주사위를 1000번 던지는 함수를 작성한다.\n",
    "    - 2) 각 실험에서 유의 수준에 해당되는 검정 통계량 값이 나왔을 때 True, False를 return하는 함수를 작성한다.\n",
    "    - 3) 1000번 실험한 뒤 몇 번이나 기각되었는지 세어본다."
   ]
  },
  {
   "cell_type": "code",
   "execution_count": 22,
   "metadata": {},
   "outputs": [],
   "source": [
    "def run_experiment():\n",
    "    import random\n",
    "    \"\"\"동전을 1000번 던져서, True = 앞면, False = 뒷면\"\"\"\n",
    "    return [random.random() < 0.5 for _ in range(1000)]"
   ]
  },
  {
   "cell_type": "code",
   "execution_count": 23,
   "metadata": {},
   "outputs": [],
   "source": [
    "def reject_fairness(experiment):\n",
    "    \"\"\"유의수준을 5%로 설정\"\"\"\n",
    "    num_heads = len([flip for flip in experiment if flip])\n",
    "    return num_heads < 469 or num_heads > 531"
   ]
  },
  {
   "cell_type": "code",
   "execution_count": 24,
   "metadata": {
    "scrolled": true
   },
   "outputs": [
    {
     "name": "stdout",
     "output_type": "stream",
     "text": [
      "46\n"
     ]
    }
   ],
   "source": [
    "import random\n",
    "random.seed(0)\n",
    "experiments = [run_experiment() for _ in range(1000)]\n",
    "num_rejections = len([experiment for experiment in experiments if reject_fairness(experiment)])\n",
    "print(num_rejections)"
   ]
  },
  {
   "cell_type": "markdown",
   "metadata": {},
   "source": [
    "--------"
   ]
  },
  {
   "cell_type": "code",
   "execution_count": null,
   "metadata": {},
   "outputs": [],
   "source": []
  }
 ],
 "metadata": {
  "anaconda-cloud": {},
  "kernelspec": {
   "display_name": "Python [default]",
   "language": "python",
   "name": "python3"
  },
  "language_info": {
   "codemirror_mode": {
    "name": "ipython",
    "version": 3
   },
   "file_extension": ".py",
   "mimetype": "text/x-python",
   "name": "python",
   "nbconvert_exporter": "python",
   "pygments_lexer": "ipython3",
   "version": "3.5.4"
  }
 },
 "nbformat": 4,
 "nbformat_minor": 1
}
